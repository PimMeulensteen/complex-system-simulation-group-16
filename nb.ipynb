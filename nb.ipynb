{
 "cells": [
  {
   "cell_type": "code",
   "execution_count": null,
   "metadata": {},
   "outputs": [],
   "source": [
    "import matplotlib.pyplot as plt\n",
    "from css_dla import Model\n",
    "import numpy as np"
   ]
  },
  {
   "cell_type": "code",
   "execution_count": null,
   "metadata": {},
   "outputs": [],
   "source": [
    "model = Model()\n"
   ]
  },
  {
   "cell_type": "code",
   "execution_count": null,
   "metadata": {},
   "outputs": [],
   "source": [
    "# plot the grid\n",
    "plt.imshow(model.grid, cmap='Set1')\n",
    "plt.clim(0,10)\n",
    "plt.show()"
   ]
  },
  {
   "cell_type": "code",
   "execution_count": null,
   "metadata": {},
   "outputs": [],
   "source": [
    "model.loop(2000)"
   ]
  },
  {
   "cell_type": "code",
   "execution_count": null,
   "metadata": {},
   "outputs": [],
   "source": [
    "plt.imshow(model.grid, cmap='Set1')\n",
    "plt.title(\"Final grid 2\")\n",
    "plt.show()"
   ]
  },
  {
   "cell_type": "code",
   "execution_count": null,
   "metadata": {},
   "outputs": [],
   "source": [
    "distances, densities = model.density_gradient()\n",
    "\n",
    "plt.plot(distances, densities, '-o', color='blue')\n",
    "plt.xlabel('Distance from center')\n",
    "plt.ylabel('Density')\n",
    "plt.title('Density Gradient Plot')\n",
    "plt.show()"
   ]
  },
  {
   "cell_type": "code",
   "execution_count": null,
   "metadata": {},
   "outputs": [],
   "source": [
    "import powerlaw\n",
    "\n",
    "# Fit the distance data using powerlaw\n",
    "results = powerlaw.Fit(densities)\n",
    "\n",
    "# Retrieve the parameters of the power-law distribution and comparison results\n",
    "print('Power-law exponent alpha:', results.power_law.alpha)\n",
    "print('Minimum value for power-law distribution xmin:', results.power_law.xmin)\n",
    "R, p = results.distribution_compare('power_law', 'exponential')\n",
    "print('Comparison result R between power-law and exponential distributions:', R)\n",
    "print('p-value:', p)"
   ]
  },
  {
   "cell_type": "code",
   "execution_count": null,
   "metadata": {},
   "outputs": [],
   "source": [
    "# Convert to log scale\n",
    "log_distances = np.log(distances)\n",
    "log_densities = np.log(densities)\n",
    "\n",
    "plt.plot(log_distances, log_densities, '-o', color='blue')\n",
    "plt.xlabel('Log(Distance from center)')\n",
    "plt.ylabel('Log(Density)')\n",
    "plt.title('Log-Log Density Gradient Plot')\n",
    "plt.show()"
   ]
  }
 ],
 "metadata": {
  "kernelspec": {
   "display_name": "Python 3",
   "language": "python",
   "name": "python3"
  },
  "language_info": {
   "codemirror_mode": {
    "name": "ipython",
    "version": 3
   },
   "file_extension": ".py",
   "mimetype": "text/x-python",
   "name": "python",
   "nbconvert_exporter": "python",
   "pygments_lexer": "ipython3",
   "version": "3.9.13"
  }
 },
 "nbformat": 4,
 "nbformat_minor": 2
}

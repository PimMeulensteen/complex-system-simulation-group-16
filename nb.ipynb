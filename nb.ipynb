{
 "cells": [
  {
   "cell_type": "code",
   "execution_count": null,
   "metadata": {},
   "outputs": [
    {
     "ename": "ModuleNotFoundError",
     "evalue": "No module named 'main'",
     "output_type": "error",
     "traceback": [
      "\u001b[0;31m---------------------------------------------------------------------------\u001b[0m",
      "\u001b[0;31mModuleNotFoundError\u001b[0m                       Traceback (most recent call last)",
      "Cell \u001b[0;32mIn[1], line 3\u001b[0m\n\u001b[1;32m      1\u001b[0m \u001b[38;5;28;01mimport\u001b[39;00m \u001b[38;5;21;01mnumpy\u001b[39;00m \u001b[38;5;28;01mas\u001b[39;00m \u001b[38;5;21;01mnp\u001b[39;00m\n\u001b[1;32m      2\u001b[0m \u001b[38;5;28;01mimport\u001b[39;00m \u001b[38;5;21;01mmatplotlib\u001b[39;00m\u001b[38;5;21;01m.\u001b[39;00m\u001b[38;5;21;01mpyplot\u001b[39;00m \u001b[38;5;28;01mas\u001b[39;00m \u001b[38;5;21;01mplt\u001b[39;00m\n\u001b[0;32m----> 3\u001b[0m \u001b[38;5;28;01mimport\u001b[39;00m \u001b[38;5;21;01mmain\u001b[39;00m \u001b[38;5;28;01mas\u001b[39;00m \u001b[38;5;21;01mm\u001b[39;00m\n",
      "\u001b[0;31mModuleNotFoundError\u001b[0m: No module named 'main'"
     ]
    }
   ],
   "source": [
    "import numpy as np\n",
    "import matplotlib.pyplot as plt\n",
    "from css_dla import Model\n",
    "import numpy as np"
   ]
  },
  {
   "cell_type": "code",
   "execution_count": null,
   "metadata": {},
   "outputs": [],
   "source": [
    "model = Model()\n"
   ]
  },
  {
   "cell_type": "code",
   "execution_count": null,
   "metadata": {},
   "outputs": [],
   "source": [
    "# plot the grid\n",
    "plt.imshow(model.grid, cmap='Set1')\n",
    "plt.clim(0,10)\n",
    "plt.show()"
   ]
  },
  {
   "cell_type": "code",
   "execution_count": null,
   "metadata": {},
   "outputs": [],
   "source": [
    "model.loop(2000)"
   ]
  },
  {
   "cell_type": "code",
   "execution_count": null,
   "metadata": {},
   "outputs": [],
   "source": [
    "plt.imshow(model.grid, cmap='Set1')\n",
    "plt.title(\"Final grid 2\")\n",
    "plt.show()"
   ]
  },
  {
   "cell_type": "code",
   "execution_count": null,
   "metadata": {},
   "outputs": [],
   "source": [
    "distances, densities = model.density_gradient()\n",
    "\n",
    "plt.plot(distances, densities, '-o', color='blue')\n",
    "plt.xlabel('Distance from center')\n",
    "plt.ylabel('Density')\n",
    "plt.title('Density Gradient Plot')\n",
    "plt.show()"
   ]
  },
  {
   "cell_type": "code",
   "execution_count": null,
   "metadata": {},
   "outputs": [],
   "source": [
    "import powerlaw\n",
    "\n",
    "# Fit the distance data using powerlaw\n",
    "results = powerlaw.Fit(densities)\n",
    "\n",
    "# Retrieve the parameters of the power-law distribution and comparison results\n",
    "print('Power-law exponent alpha:', results.power_law.alpha)\n",
    "print('Minimum value for power-law distribution xmin:', results.power_law.xmin)\n",
    "R, p = results.distribution_compare('power_law', 'exponential')\n",
    "print('Comparison result R between power-law and exponential distributions:', R)\n",
    "print('p-value:', p)"
   ]
  },
  {
   "cell_type": "code",
   "execution_count": null,
   "metadata": {},
   "outputs": [],
   "source": [
    "# Convert to log scale\n",
    "log_distances = np.log(distances)\n",
    "log_densities = np.log(densities)\n",
    "\n",
    "plt.plot(log_distances, log_densities, '-o', color='blue')\n",
    "plt.xlabel('Log(Distance from center)')\n",
    "plt.ylabel('Log(Density)')\n",
    "plt.title('Log-Log Density Gradient Plot')\n",
    "fig, ax = plt.subplots()\n",
    "results.plot_pdf(color='black', linewidth=2, label = 'PDF')\n",
    "results.power_law.plot_pdf(color='b', ax=ax, label='Power-law Fit') \n",
    "results.exponential.plot_pdf(color='r', linestyle='--', ax=ax, label='Exponential Fit')  \n",
    "results.lognormal.plot_pdf(color='g', linestyle='--', ax=ax, label='Lognormal Fit') \n",
    "plt.xlabel('Density')\n",
    "plt.ylabel('Probability')\n",
    "plt.title('Density Distribution and Power-law Fit')\n",
    "plt.legend() \n",
    "plt.show()"
   ]
  }
 ],
 "metadata": {
  "kernelspec": {
   "display_name": "Python 3",
   "language": "python",
   "name": "python3"
  },
  "language_info": {
   "codemirror_mode": {
    "name": "ipython",
    "version": 3
   },
   "file_extension": ".py",
   "mimetype": "text/x-python",
   "name": "python",
   "nbconvert_exporter": "python",
   "pygments_lexer": "ipython3",
   "version": "3.9.13"
  }
 },
 "nbformat": 4,
 "nbformat_minor": 2
}

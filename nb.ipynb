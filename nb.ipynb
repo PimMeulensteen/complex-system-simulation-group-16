{
 "cells": [
  {
   "cell_type": "code",
   "execution_count": null,
   "metadata": {},
   "outputs": [],
   "source": [
    "import numpy as np\n",
    "import matplotlib.pyplot as plt\n"
   ]
  },
  {
   "cell_type": "code",
   "execution_count": null,
   "metadata": {},
   "outputs": [],
   "source": [
    "WIDTH = 100\n",
    "HEIGHT = 100\n",
    "\n",
    "NO_CELL = 0\n",
    "STRUCTURE = 1\n",
    "\n",
    "# Make a grid of points\n",
    "grid = np.zeros((WIDTH, HEIGHT), dtype=np.int8)\n",
    "\n",
    "\n",
    "# Set the initial conditions\n",
    "grid[WIDTH//2, HEIGHT//2] = STRUCTURE\n",
    "plt.imshow(grid, cmap='gray')\n"
   ]
  },
  {
   "cell_type": "code",
   "execution_count": null,
   "metadata": {},
   "outputs": [],
   "source": [
    "def set_if_within_bounds(x, y, value):\n",
    "    # Set the value of grid[x,y] to value if x and y are within bounds\n",
    "    if x >= 0 and x < WIDTH and y >= 0 and y < HEIGHT:\n",
    "        grid[x,y] = value\n"
   ]
  },
  {
   "cell_type": "code",
   "execution_count": null,
   "metadata": {},
   "outputs": [],
   "source": [
    "# plot the grid\n",
    "plt.imshow(grid, cmap='Set1')\n",
    "plt.clim(0,10)\n",
    "plt.show()"
   ]
  },
  {
   "cell_type": "code",
   "execution_count": null,
   "metadata": {},
   "outputs": [],
   "source": [
    "for _ in range(200):\n",
    "    # Set the walker to be a particle at a random point on the edge of a circle\n",
    "    angle = np.random.uniform(0, 2*np.pi)\n",
    "    x = int(WIDTH//2 + WIDTH//2 * np.cos(angle))\n",
    "    y = int(HEIGHT//2 + HEIGHT//2 * np.sin(angle))\n",
    "    grid[x,y] = 2\n",
    "    \n",
    "    while grid[x,y] == 0:\n",
    "        old_x, old_y = x, y\n",
    "\n",
    "        # Move the walker\n",
    "        direction = np.random.randint(0,4)\n",
    "        if direction == 0:\n",
    "            x += 1\n",
    "        elif direction == 1:\n",
    "            x -= 1\n",
    "        elif direction == 2:\n",
    "            y += 1\n",
    "        else:\n",
    "            y -= 1\n",
    "\n",
    "\n",
    "\n",
    "        # Check if the walker is within bounds\n",
    "        if x < 0:\n",
    "            x = 0\n",
    "        elif x >= WIDTH:\n",
    "            x = WIDTH - 1\n",
    "\n",
    "        if y < 0:\n",
    "            y = 0\n",
    "        elif y >= HEIGHT:\n",
    "            y = HEIGHT - 1\n",
    "\n",
    "    # Set the walker to be a city\n",
    "    grid[old_x,old_y] = STRUCTURE\n",
    "    plt.imshow(grid, cmap='Set1')\n",
    "\n"
   ]
  },
  {
   "cell_type": "code",
   "execution_count": null,
   "metadata": {},
   "outputs": [],
   "source": []
  }
 ],
 "metadata": {
  "kernelspec": {
   "display_name": "Python 3",
   "language": "python",
   "name": "python3"
  },
  "language_info": {
   "codemirror_mode": {
    "name": "ipython",
    "version": 3
   },
   "file_extension": ".py",
   "mimetype": "text/x-python",
   "name": "python",
   "nbconvert_exporter": "python",
   "pygments_lexer": "ipython3",
   "version": "3.9.6"
  }
 },
 "nbformat": 4,
 "nbformat_minor": 2
}

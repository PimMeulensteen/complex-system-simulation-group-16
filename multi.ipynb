{
 "cells": [
  {
   "cell_type": "markdown",
   "metadata": {},
   "source": [
    "# DLA with Multi processing \n",
    "\n",
    "This file contains a multi-threaded simulation for the DLA of the css_dla package."
   ]
  },
  {
   "cell_type": "markdown",
   "metadata": {},
   "source": [
    "### Imports and global variables"
   ]
  },
  {
   "cell_type": "code",
   "execution_count": null,
   "metadata": {},
   "outputs": [],
   "source": [
    "import matplotlib.pyplot as plt\n",
    "from css_dla import Model\n",
    "import multiprocess as mp\n",
    "import pickle as pkl\n",
    "import numpy as np\n",
    "import powerlaw"
   ]
  },
  {
   "cell_type": "code",
   "execution_count": null,
   "metadata": {},
   "outputs": [],
   "source": [
    "N_MODELS = 30 # Number of models to be trained\n",
    "N_PROCESS = 6 # Number of processes to use for running the models\n",
    "\n",
    "# Model parameters\n",
    "MODE = \"multiple\"\n",
    "w = 600\n",
    "h = 600\n",
    "N_LOOPS = 10_000\n",
    "\n",
    "# Create a filename to use for plots and pickled models\n",
    "filename = f\"{MODE}_{N_MODELS}_{N_LOOPS}its_{w}x{h}.pkl\""
   ]
  },
  {
   "cell_type": "markdown",
   "metadata": {},
   "source": [
    "### Initializing the model"
   ]
  },
  {
   "cell_type": "code",
   "execution_count": null,
   "metadata": {},
   "outputs": [],
   "source": [
    "models = []\n",
    "for i in range(N_MODELS):\n",
    "    models.append(Model(mode=MODE, w=w, h=h, seed=i))"
   ]
  },
  {
   "cell_type": "markdown",
   "metadata": {},
   "source": [
    "### Running the model"
   ]
  },
  {
   "cell_type": "code",
   "execution_count": null,
   "metadata": {},
   "outputs": [],
   "source": [
    "def run_model(mdl):\n",
    "    mdl.loop(N_LOOPS)\n",
    "    return mdl\n",
    "\n",
    "pool = mp.Pool(processes=N_PROCESS)\n",
    "models = pool.map(run_model, models)"
   ]
  },
  {
   "cell_type": "code",
   "execution_count": null,
   "metadata": {},
   "outputs": [],
   "source": [
    "# Incorportate all variables into the filename\n",
    "pkl.dump(models, open(f\"data/{filename}\", 'wb'))"
   ]
  },
  {
   "cell_type": "markdown",
   "metadata": {},
   "source": [
    "### Plotting the results"
   ]
  },
  {
   "cell_type": "code",
   "execution_count": null,
   "metadata": {},
   "outputs": [],
   "source": [
    "models = pkl.load(open(f\"data/{filename}\", 'rb'))"
   ]
  },
  {
   "cell_type": "code",
   "execution_count": null,
   "metadata": {},
   "outputs": [],
   "source": [
    "fig, axes = plt.subplots(2, 3, figsize=(10, 10))\n",
    "for i, mdl in enumerate(models):\n",
    "    if i >= 6:\n",
    "        break\n",
    "    ax = axes[i//3, i%3]\n",
    "    ax.imshow(mdl.grid, cmap='gray')\n",
    "    ax.set_title(f'Model {i}')\n",
    "    ax.axis('off')\n",
    "plt.tight_layout()\n",
    "print(np.sum(models[0].grid))"
   ]
  },
  {
   "cell_type": "markdown",
   "metadata": {},
   "source": [
    "### Plot the density gradient"
   ]
  },
  {
   "cell_type": "code",
   "execution_count": null,
   "metadata": {},
   "outputs": [],
   "source": [
    "# Plot the density gradient for six models. \n",
    "# Will still calculate the gradient for all models, for later use.\n",
    "fig, axes = plt.subplots(2, 3, figsize=(10, 10))\n",
    "dists = []\n",
    "dens = []\n",
    "for i, mdl in enumerate(models):\n",
    "    distances, densities = mdl.density_gradient(1)\n",
    "    dists.append(distances)\n",
    "    dens.append(densities)\n",
    "    \n",
    "    if i < 6:\n",
    "        ax = axes[i//3, i%3]\n",
    "        ax.plot(distances, densities, '-0', color='blue')\n",
    "plt.tight_layout()"
   ]
  },
  {
   "cell_type": "code",
   "execution_count": null,
   "metadata": {},
   "outputs": [],
   "source": [
    "\n",
    "\n",
    "merged_dists = list(range(min([len(d) for d in dists])))\n",
    "merged_densities = []\n",
    "print(len(dists), len(merged_dists))\n",
    "for i in range(len(merged_dists)):\n",
    "    merged_densities.append([dens[j][i] / 2 for j in range(len(dens))])\n",
    "\n",
    "\n",
    "def std(lst):\n",
    "    return (sum([(x-np.average(lst))**2 for x in lst])/(len(lst)-1))**0.5\n",
    "\n",
    "average_densities = np.average(merged_densities) \n",
    "confidence_intervals = 2 * std(merged_densities) / np.sqrt(len(merged_densities))"
   ]
  },
  {
   "cell_type": "code",
   "execution_count": null,
   "metadata": {},
   "outputs": [],
   "source": [
    "\n",
    "fig, ax = plt.subplots(1, 1, figsize=(6, 6))\n",
    "ax.plot((merged_dists), np.log(average_densities), '-', color='blue')\n",
    "ax.fill_between(merged_dists, np.log([average_densities[i]-confidence_intervals[i] for i in range(len(merged_dists))]), np.log([average_densities[i]+confidence_intervals[i] for i in range(len(merged_dists))]), color='blue', alpha=0.2)\n",
    "\n",
    "# Remove top and right spines\n",
    "ax.spines['top'].set_visible(False)\n",
    "ax.spines['right'].set_visible(False)\n",
    "\n",
    "plt.xlabel('Distance from center (pixels)')\n",
    "plt.ylabel('Density')\n",
    "\n",
    "plt.savefig(f'density_gradient_{filename}.png', dpi=300)"
   ]
  },
  {
   "cell_type": "code",
   "execution_count": null,
   "metadata": {},
   "outputs": [],
   "source": [
    "fit = powerlaw.Fit(average_densities, discrete=True)\n",
    "print(fit.distribution_compare('power_law', 'exponential'))\n",
    "print(fit.distribution_compare('power_law', 'truncated_power_law'))\n",
    "print(fit.distribution_compare('power_law', 'lognormal'))"
   ]
  },
  {
   "cell_type": "markdown",
   "metadata": {},
   "source": [
    "### Fractal Dimensions"
   ]
  },
  {
   "cell_type": "code",
   "execution_count": null,
   "metadata": {},
   "outputs": [],
   "source": [
    "fractal_dims = []\n",
    "for mdl in models:\n",
    "    fractal_dims.append(mdl.get_fractal_dim())"
   ]
  },
  {
   "cell_type": "code",
   "execution_count": null,
   "metadata": {},
   "outputs": [],
   "source": [
    "plt.figure(figsize=(2, 4))\n",
    "plt.boxplot(fractal_dims,widths=[0.9])\n",
    "plt.ylabel('Fractal dimension')\n",
    "plt.gca().spines['top'].set_visible(False)\n",
    "plt.gca().spines['right'].set_visible(False)\n",
    "plt.xticks([])\n",
    "plt.tight_layout()\n",
    "\n",
    "plt.savefig(f'fractal_dimension_{filename}.png', dpi=300)\n",
    "print(fractal_dims)"
   ]
  },
  {
   "cell_type": "code",
   "execution_count": null,
   "metadata": {},
   "outputs": [],
   "source": []
  }
 ],
 "metadata": {
  "kernelspec": {
   "display_name": "Python 3",
   "language": "python",
   "name": "python3"
  },
  "language_info": {
   "codemirror_mode": {
    "name": "ipython",
    "version": 3
   },
   "file_extension": ".py",
   "mimetype": "text/x-python",
   "name": "python",
   "nbconvert_exporter": "python",
   "pygments_lexer": "ipython3",
   "version": "3.9.6"
  }
 },
 "nbformat": 4,
 "nbformat_minor": 2
}
